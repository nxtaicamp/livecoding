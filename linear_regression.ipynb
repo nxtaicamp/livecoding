{
 "cells": [
  {
   "cell_type": "code",
   "execution_count": 123,
   "id": "b419d125-037c-4371-9b08-2bd5b037128a",
   "metadata": {},
   "outputs": [],
   "source": [
    "import numpy as np\n",
    "import pandas as pd\n",
    "import matplotlib.pyplot as plt"
   ]
  },
  {
   "cell_type": "code",
   "execution_count": 124,
   "id": "7ec598f2-824d-4b50-9280-659d8b50f994",
   "metadata": {},
   "outputs": [],
   "source": [
    "url = \"http://archive.ics.uci.edu/ml/machine-learning-databases/auto-mpg/auto-mpg.data\"\n",
    "columns = [\"MPG\", \"cylinders\", \"displacement\", \"horsepower\", \"weight\", \"acceleration\", \"model year\", \"origin\"]\n",
    "\n",
    "df = pd.read_csv(url, names = columns, na_values = \"?\", comment = \"\\t\", sep = \" \", skipinitialspace = True)"
   ]
  },
  {
   "cell_type": "code",
   "execution_count": 125,
   "id": "3d6342aa-8138-4a22-9f1f-4de8a18aa673",
   "metadata": {},
   "outputs": [],
   "source": [
    "df = df.dropna()"
   ]
  },
  {
   "cell_type": "code",
   "execution_count": 126,
   "id": "c67b261d-2602-4d99-80ae-e590a53757d6",
   "metadata": {},
   "outputs": [
    {
     "data": {
      "text/html": [
       "<div>\n",
       "<style scoped>\n",
       "    .dataframe tbody tr th:only-of-type {\n",
       "        vertical-align: middle;\n",
       "    }\n",
       "\n",
       "    .dataframe tbody tr th {\n",
       "        vertical-align: top;\n",
       "    }\n",
       "\n",
       "    .dataframe thead th {\n",
       "        text-align: right;\n",
       "    }\n",
       "</style>\n",
       "<table border=\"1\" class=\"dataframe\">\n",
       "  <thead>\n",
       "    <tr style=\"text-align: right;\">\n",
       "      <th></th>\n",
       "      <th>MPG</th>\n",
       "      <th>cylinders</th>\n",
       "      <th>displacement</th>\n",
       "      <th>horsepower</th>\n",
       "      <th>weight</th>\n",
       "      <th>acceleration</th>\n",
       "      <th>model year</th>\n",
       "      <th>origin</th>\n",
       "    </tr>\n",
       "  </thead>\n",
       "  <tbody>\n",
       "    <tr>\n",
       "      <th>0</th>\n",
       "      <td>18.0</td>\n",
       "      <td>8</td>\n",
       "      <td>307.0</td>\n",
       "      <td>130.0</td>\n",
       "      <td>3504.0</td>\n",
       "      <td>12.0</td>\n",
       "      <td>70</td>\n",
       "      <td>1</td>\n",
       "    </tr>\n",
       "    <tr>\n",
       "      <th>1</th>\n",
       "      <td>15.0</td>\n",
       "      <td>8</td>\n",
       "      <td>350.0</td>\n",
       "      <td>165.0</td>\n",
       "      <td>3693.0</td>\n",
       "      <td>11.5</td>\n",
       "      <td>70</td>\n",
       "      <td>1</td>\n",
       "    </tr>\n",
       "    <tr>\n",
       "      <th>2</th>\n",
       "      <td>18.0</td>\n",
       "      <td>8</td>\n",
       "      <td>318.0</td>\n",
       "      <td>150.0</td>\n",
       "      <td>3436.0</td>\n",
       "      <td>11.0</td>\n",
       "      <td>70</td>\n",
       "      <td>1</td>\n",
       "    </tr>\n",
       "    <tr>\n",
       "      <th>3</th>\n",
       "      <td>16.0</td>\n",
       "      <td>8</td>\n",
       "      <td>304.0</td>\n",
       "      <td>150.0</td>\n",
       "      <td>3433.0</td>\n",
       "      <td>12.0</td>\n",
       "      <td>70</td>\n",
       "      <td>1</td>\n",
       "    </tr>\n",
       "    <tr>\n",
       "      <th>4</th>\n",
       "      <td>17.0</td>\n",
       "      <td>8</td>\n",
       "      <td>302.0</td>\n",
       "      <td>140.0</td>\n",
       "      <td>3449.0</td>\n",
       "      <td>10.5</td>\n",
       "      <td>70</td>\n",
       "      <td>1</td>\n",
       "    </tr>\n",
       "  </tbody>\n",
       "</table>\n",
       "</div>"
      ],
      "text/plain": [
       "    MPG  cylinders  displacement  horsepower  weight  acceleration  \\\n",
       "0  18.0          8         307.0       130.0  3504.0          12.0   \n",
       "1  15.0          8         350.0       165.0  3693.0          11.5   \n",
       "2  18.0          8         318.0       150.0  3436.0          11.0   \n",
       "3  16.0          8         304.0       150.0  3433.0          12.0   \n",
       "4  17.0          8         302.0       140.0  3449.0          10.5   \n",
       "\n",
       "   model year  origin  \n",
       "0          70       1  \n",
       "1          70       1  \n",
       "2          70       1  \n",
       "3          70       1  \n",
       "4          70       1  "
      ]
     },
     "execution_count": 126,
     "metadata": {},
     "output_type": "execute_result"
    }
   ],
   "source": [
    "df.head(5)"
   ]
  },
  {
   "cell_type": "code",
   "execution_count": 137,
   "id": "db2bfcf5-3f14-4c79-95f1-b10d39c3e925",
   "metadata": {},
   "outputs": [],
   "source": [
    "X = df[\"acceleration\"].to_numpy()\n",
    "y = df[\"weight\"].to_numpy()"
   ]
  },
  {
   "cell_type": "code",
   "execution_count": 128,
   "id": "4a546f5f-64d9-4390-ae04-1e27872b76a3",
   "metadata": {},
   "outputs": [],
   "source": [
    "# y = mx + b\n",
    "\n",
    "def predict(w, x, b):\n",
    "    return w * x + b"
   ]
  },
  {
   "cell_type": "code",
   "execution_count": 129,
   "id": "5c124cd1-ae1d-436c-a2ff-52bcac51c6ed",
   "metadata": {},
   "outputs": [],
   "source": [
    "def mse(x, y, w, b):\n",
    "    n = x.shape[0]\n",
    "    total = np.sum((y - (w * x + b)) ** 2)\n",
    "    return total / n"
   ]
  },
  {
   "cell_type": "code",
   "execution_count": 130,
   "id": "2cb6095d-38a5-40dd-b08a-d3fdd6e6ee05",
   "metadata": {},
   "outputs": [],
   "source": [
    "def gradient_descent(x, y, w, b, lr):\n",
    "    dw = 0\n",
    "    db = 0\n",
    "    n = x.shape[0]\n",
    "    for i in range(n):\n",
    "        dw += -2 * x[i] * (y[i] - (w * x[i] + b))\n",
    "        db += -2 * (y[i] - (w * x[i] + b))\n",
    "    w -= (dw / n) * lr\n",
    "    b -= (db / n) * lr\n",
    "    return w, b"
   ]
  },
  {
   "cell_type": "code",
   "execution_count": 131,
   "id": "5b4e4bf2-280c-487e-b22b-9996529568eb",
   "metadata": {},
   "outputs": [],
   "source": [
    "def train(x, y, w, b, lr, iterations):\n",
    "    history = []\n",
    "    for i in range(iterations):\n",
    "        w, b = gradient_descent(x, y, w, b, lr)\n",
    "        cost = mse(x, y, w, b)\n",
    "        history.append(cost)\n",
    "        if i % 10 == 0:\n",
    "            print(f\"{i}\\t{w}\\t{b}\\t{cost}\")\n",
    "    return history, w, b"
   ]
  },
  {
   "cell_type": "code",
   "execution_count": 176,
   "id": "90de3d9d-c55c-4e8f-be0b-3b5111631560",
   "metadata": {},
   "outputs": [
    {
     "name": "stdout",
     "output_type": "stream",
     "text": [
      "index\tw\t\t\tb\t\t\tcost\n",
      "0\t902.0431989795918\t59.24085714285715\t131878233.35486662\n",
      "10\t759654815.5666552\t47395896.16991393\t1.448850647709026e+20\n",
      "20\t800322906412613.5\t49933198749979.84\t1.6081321260241988e+32\n",
      "30\t8.431683607202441e+20\t5.2606382996339425e+19\t1.7849244425851218e+44\n",
      "40\t8.883075553922653e+26\t5.542267672092144e+25\t1.9811526765617683e+56\n"
     ]
    }
   ],
   "source": [
    "print(\"index\\tw\\t\\t\\tb\\t\\t\\tcost\")\n",
    "history, w, b = train(X, y, 1.0, 0.0, 1e-2, 50)"
   ]
  },
  {
   "cell_type": "code",
   "execution_count": 175,
   "id": "8d21a4b7-074a-4b81-a83c-26308ff4c7f1",
   "metadata": {},
   "outputs": [
    {
     "data": {
      "text/plain": [
       "[<matplotlib.lines.Line2D at 0x150200f70>]"
      ]
     },
     "execution_count": 175,
     "metadata": {},
     "output_type": "execute_result"
    },
    {
     "data": {
      "image/png": "[encoded data removed]",
      "text/plain": [
       "<Figure size 640x480 with 1 Axes>"
      ]
     },
     "metadata": {},
     "output_type": "display_data"
    }
   ],
   "source": [
    "plt.plot(history)"
   ]
  }
 ],
 "metadata": {
  "kernelspec": {
   "display_name": "Python 3 (ipykernel)",
   "language": "python",
   "name": "python3"
  },
  "language_info": {
   "codemirror_mode": {
    "name": "ipython",
    "version": 3
   },
   "file_extension": ".py",
   "mimetype": "text/x-python",
   "name": "python",
   "nbconvert_exporter": "python",
   "pygments_lexer": "ipython3",
   "version": "3.9.6"
  }
 },
 "nbformat": 4,
 "nbformat_minor": 5
}
