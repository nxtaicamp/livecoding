{
 "cells": [
  {
   "cell_type": "code",
   "execution_count": 51,
   "id": "5a29e785-ffa4-411f-9faa-d5689fb8bf1f",
   "metadata": {},
   "outputs": [],
   "source": [
    "import nltk\n",
    "import nltk.corpus\n",
    "import nltk.tokenize\n",
    "import nltk.stem\n",
    "import nltk.sentiment.vader"
   ]
  },
  {
   "cell_type": "code",
   "execution_count": 22,
   "id": "ad5e658f-930b-49a9-97fe-9b168b4cebe8",
   "metadata": {},
   "outputs": [],
   "source": [
    "text = \"John went to the mall to buy some shoes. He went to many different stores. He returned home with a blue pair of shoes.\""
   ]
  },
  {
   "cell_type": "code",
   "execution_count": 45,
   "id": "a104e901-b1fe-43cc-b5a2-42b05f7e6775",
   "metadata": {},
   "outputs": [],
   "source": [
    "sentences = nltk.tokenize.sent_tokenize(text)"
   ]
  },
  {
   "cell_type": "code",
   "execution_count": 16,
   "id": "8987eeed-20f8-4d11-89f4-ee0c7cbfae02",
   "metadata": {},
   "outputs": [],
   "source": [
    "stop_words = set(nltk.corpus.stopwords.words(\"english\"))\n",
    "tokens = nltk.tokenize.word_tokenize(text)"
   ]
  },
  {
   "cell_type": "code",
   "execution_count": 20,
   "id": "7aa5a1fe-e0a5-4825-a39b-912c8a1711ba",
   "metadata": {},
   "outputs": [],
   "source": [
    "text_filtered = []\n",
    "for word in tokens:\n",
    "    if word not in stop_words:\n",
    "        text_filtered.append(word)"
   ]
  },
  {
   "cell_type": "code",
   "execution_count": 28,
   "id": "119200b1-9442-41c8-b06b-6119da9db7ae",
   "metadata": {
    "scrolled": true
   },
   "outputs": [
    {
     "name": "stdout",
     "output_type": "stream",
     "text": [
      "73.7037037037037% of text remains\n"
     ]
    }
   ],
   "source": [
    "print(str(100 - (len(tokens) - len(text_filtered) / len(tokens))) + \"% of text remains\")"
   ]
  },
  {
   "cell_type": "code",
   "execution_count": 34,
   "id": "ea914868-24ad-473d-bacf-26621c614072",
   "metadata": {},
   "outputs": [
    {
     "name": "stdout",
     "output_type": "stream",
     "text": [
      "ride\n",
      "ride\n",
      "rider\n"
     ]
    }
   ],
   "source": [
    "stemmer = nltk.stem.PorterStemmer()\n",
    "words = [\"ride\", \"riding\", \"rider\"]\n",
    "for word in words:\n",
    "    print(stemmer.stem(word))"
   ]
  },
  {
   "cell_type": "code",
   "execution_count": 36,
   "id": "b577b140-e86b-43ee-ab9f-c5a3db64aacd",
   "metadata": {},
   "outputs": [
    {
     "name": "stdout",
     "output_type": "stream",
     "text": [
      "john\n",
      "went\n",
      "mall\n",
      "buy\n",
      "shoe\n",
      ".\n",
      "he\n",
      "went\n",
      "mani\n",
      "differ\n",
      "store\n",
      ".\n",
      "he\n",
      "return\n",
      "home\n",
      "blue\n",
      "pair\n",
      "shoe\n",
      ".\n"
     ]
    }
   ],
   "source": [
    "for word in text_filtered:\n",
    "    print(stemmer.stem(word))"
   ]
  },
  {
   "cell_type": "code",
   "execution_count": 42,
   "id": "3e8c28d0-ee21-4990-8848-6a4029aca8aa",
   "metadata": {},
   "outputs": [
    {
     "name": "stdout",
     "output_type": "stream",
     "text": [
      "[('John', 'NNP'), ('went', 'VBD'), ('mall', 'JJ'), ('buy', 'NN'), ('shoes', 'NNS'), ('.', '.'), ('He', 'PRP'), ('went', 'VBD'), ('many', 'JJ'), ('different', 'JJ'), ('stores', 'NNS'), ('.', '.'), ('He', 'PRP'), ('returned', 'VBD'), ('home', 'NN'), ('blue', 'NN'), ('pair', 'NN'), ('shoes', 'NNS'), ('.', '.')]\n"
     ]
    }
   ],
   "source": [
    "print(nltk.pos_tag(text_filtered))"
   ]
  },
  {
   "cell_type": "code",
   "execution_count": 53,
   "id": "0088c9db-e99f-487c-a6ed-5526c16d5aa8",
   "metadata": {},
   "outputs": [],
   "source": [
    "text_positive = \"John went to watch the new Cars movie. He enjoyed it greatly. He taught that the cars were very fast and he really likes that.\"\n",
    "text_neutral = \"John watched the Cars movie. He thinks that it is okay. He felt it wasn't bad.\"\n",
    "text_negative = \"John went to watch the new Cars movie. He hated it and felt like it should never have been made. He went to the front desk to get his money back.\""
   ]
  },
  {
   "cell_type": "code",
   "execution_count": 60,
   "id": "c4b7bb46-25f6-4493-8261-2400e2b0276e",
   "metadata": {},
   "outputs": [],
   "source": [
    "sentences = nltk.tokenize.sent_tokenize(\" \".join([text_positive, text_neutral, text_negative]))\n",
    "analyzer = nltk.sentiment.vader.SentimentIntensityAnalyzer()"
   ]
  },
  {
   "cell_type": "code",
   "execution_count": 64,
   "id": "55092d06-8674-4fd0-8801-b7f3f1b9232d",
   "metadata": {
    "scrolled": true
   },
   "outputs": [
    {
     "name": "stdout",
     "output_type": "stream",
     "text": [
      "John went to watch the new Cars movie.\n",
      "\tnegative: 0.0\n",
      "\tneutral: 1.0\n",
      "\tpositive: 0.0\n",
      "He enjoyed it greatly.\n",
      "\tnegative: 0.0\n",
      "\tneutral: 0.476\n",
      "\tpositive: 0.524\n",
      "He taught that the cars were very fast and he really likes that.\n",
      "\tnegative: 0.0\n",
      "\tneutral: 0.795\n",
      "\tpositive: 0.205\n",
      "John watched the Cars movie.\n",
      "\tnegative: 0.0\n",
      "\tneutral: 1.0\n",
      "\tpositive: 0.0\n",
      "He thinks that it is okay.\n",
      "\tnegative: 0.0\n",
      "\tneutral: 0.725\n",
      "\tpositive: 0.275\n",
      "He felt it wasn't bad.\n",
      "\tnegative: 0.0\n",
      "\tneutral: 0.584\n",
      "\tpositive: 0.416\n",
      "John went to watch the new Cars movie.\n",
      "\tnegative: 0.0\n",
      "\tneutral: 1.0\n",
      "\tpositive: 0.0\n",
      "He hated it and felt like it should never have been made.\n",
      "\tnegative: 0.251\n",
      "\tneutral: 0.599\n",
      "\tpositive: 0.15\n",
      "He went to the front desk to get his money back.\n",
      "\tnegative: 0.0\n",
      "\tneutral: 1.0\n",
      "\tpositive: 0.0\n"
     ]
    }
   ],
   "source": [
    "for sentence in sentences:\n",
    "    print(sentence)\n",
    "    scores = analyzer.polarity_scores(sentence)\n",
    "    print(f\"\\tnegative: {scores['neg']}\")\n",
    "    print(f\"\\tneutral: {scores['neu']}\")\n",
    "    print(f\"\\tpositive: {scores['pos']}\")"
   ]
  }
 ],
 "metadata": {
  "kernelspec": {
   "display_name": "Python 3 (ipykernel)",
   "language": "python",
   "name": "python3"
  },
  "language_info": {
   "codemirror_mode": {
    "name": "ipython",
    "version": 3
   },
   "file_extension": ".py",
   "mimetype": "text/x-python",
   "name": "python",
   "nbconvert_exporter": "python",
   "pygments_lexer": "ipython3",
   "version": "3.9.6"
  }
 },
 "nbformat": 4,
 "nbformat_minor": 5
}
