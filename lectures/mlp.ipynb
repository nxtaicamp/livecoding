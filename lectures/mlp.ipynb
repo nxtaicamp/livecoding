{
 "cells": [
  {
   "cell_type": "code",
   "execution_count": 34,
   "id": "df0247ba-b271-454d-af93-d8f0f37a5b84",
   "metadata": {},
   "outputs": [],
   "source": [
    "import numpy as np\n",
    "import torch\n",
    "import torch.nn as nn\n",
    "import torch.optim as optim\n",
    "\n",
    "import matplotlib.pyplot as plt"
   ]
  },
  {
   "cell_type": "code",
   "execution_count": 4,
   "id": "b6418ddc-9d0b-4f3d-ac4b-d28873743d38",
   "metadata": {},
   "outputs": [],
   "source": [
    "dataset = np.loadtxt(\"datasets/pima-indians-diabetes.data\", delimiter = \",\")\n",
    "X = dataset[:, 0:8]\n",
    "y = dataset[:, 8]"
   ]
  },
  {
   "cell_type": "code",
   "execution_count": 11,
   "id": "845ab728-9004-40c3-990b-2452333a3804",
   "metadata": {},
   "outputs": [
    {
     "name": "stderr",
     "output_type": "stream",
     "text": [
      "/var/folders/pt/fxfnms3j6098ptx0glhzqpgc0000gn/T/ipykernel_1616/3861637096.py:1: UserWarning: To copy construct from a tensor, it is recommended to use sourceTensor.clone().detach() or sourceTensor.clone().detach().requires_grad_(True), rather than torch.tensor(sourceTensor).\n",
      "  X = torch.tensor(X, dtype = torch.float32)\n",
      "/var/folders/pt/fxfnms3j6098ptx0glhzqpgc0000gn/T/ipykernel_1616/3861637096.py:2: UserWarning: To copy construct from a tensor, it is recommended to use sourceTensor.clone().detach() or sourceTensor.clone().detach().requires_grad_(True), rather than torch.tensor(sourceTensor).\n",
      "  y = torch.tensor(y, dtype = torch.float32).reshape(-1, 1)\n"
     ]
    }
   ],
   "source": [
    "X = torch.tensor(X, dtype = torch.float32)\n",
    "y = torch.tensor(y, dtype = torch.float32).reshape(-1, 1)"
   ]
  },
  {
   "cell_type": "code",
   "execution_count": 23,
   "id": "481a7e89-426f-40e6-92f3-b1495f8310d2",
   "metadata": {},
   "outputs": [],
   "source": [
    "class Model(nn.Module):\n",
    "    def __init__(self):\n",
    "        super().__init__()\n",
    "        self.fc1 = nn.Linear(8, 12)\n",
    "        self.fc2 = nn.Linear(12, 8)\n",
    "        self.fc3 = nn.Linear(8, 1)\n",
    "        self.relu = nn.ReLU()\n",
    "        self.sigmoid = nn.Sigmoid()\n",
    "\n",
    "    def forward(self, x):\n",
    "        \"\"\"\n",
    "        x -> fc1(x) -> relu -> fc2(x) -> relu -> fc3(x) -> sigmoid -> y\n",
    "        \"\"\"\n",
    "        x = self.fc1(x)\n",
    "        x = self.relu(x)\n",
    "        x = self.fc2(x)\n",
    "        x = self.relu(x)\n",
    "        x = self.fc3(x)\n",
    "        return self.sigmoid(x)"
   ]
  },
  {
   "cell_type": "code",
   "execution_count": 25,
   "id": "60c95e83-dc7e-422c-8b0d-0942bc34e8c1",
   "metadata": {},
   "outputs": [
    {
     "name": "stdout",
     "output_type": "stream",
     "text": [
      "Model(\n",
      "  (fc1): Linear(in_features=8, out_features=12, bias=True)\n",
      "  (fc2): Linear(in_features=12, out_features=8, bias=True)\n",
      "  (fc3): Linear(in_features=8, out_features=1, bias=True)\n",
      "  (relu): ReLU()\n",
      "  (sigmoid): Sigmoid()\n",
      ")\n"
     ]
    }
   ],
   "source": [
    "model = Model()\n",
    "print(model)"
   ]
  },
  {
   "cell_type": "code",
   "execution_count": 27,
   "id": "0e24aa63-ed2f-4a68-8553-a8178feb929a",
   "metadata": {},
   "outputs": [],
   "source": [
    "loss_fn = nn.BCELoss()\n",
    "optimizer = optim.Adam(model.parameters(), lr = 0.001)"
   ]
  },
  {
   "cell_type": "code",
   "execution_count": 28,
   "id": "5f28d55f-aeb5-4cbf-b950-ddf846a46921",
   "metadata": {},
   "outputs": [],
   "source": [
    "epochs = 100\n",
    "batch_size = 10"
   ]
  },
  {
   "cell_type": "code",
   "execution_count": 33,
   "id": "2efaf6a4-95b2-4f84-8440-ec4f8ae3a1c5",
   "metadata": {},
   "outputs": [
    {
     "name": "stdout",
     "output_type": "stream",
     "text": [
      "epoch: 0, loss: 0.375627338886261\n",
      "epoch: 10, loss: 0.3804040849208832\n",
      "epoch: 20, loss: 0.366972953081131\n",
      "epoch: 30, loss: 0.3581390976905823\n",
      "epoch: 40, loss: 0.3451487421989441\n",
      "epoch: 50, loss: 0.3507634997367859\n",
      "epoch: 60, loss: 0.33027181029319763\n",
      "epoch: 70, loss: 0.33499258756637573\n",
      "epoch: 80, loss: 0.3347639739513397\n",
      "epoch: 90, loss: 0.32637208700180054\n"
     ]
    }
   ],
   "source": [
    "history = []\n",
    "\n",
    "for epoch in range(epochs):\n",
    "    for i in range(0, len(X), batch_size):\n",
    "        batch_x = X[i: i + batch_size]\n",
    "        batch_y = y[i: i + batch_size]\n",
    "        pred = model(batch_x)\n",
    "        loss = loss_fn(pred, batch_y)\n",
    "        history.append(loss)\n",
    "        optimizer.zero_grad()\n",
    "        loss.backward()\n",
    "        optimizer.step()\n",
    "    if epoch % 10 == 0:\n",
    "        print(f\"epoch: {epoch}, loss: {loss}\")"
   ]
  },
  {
   "cell_type": "code",
   "execution_count": 40,
   "id": "20ab21cb-53ab-4c27-995b-cd1d2faf3ebd",
   "metadata": {},
   "outputs": [
    {
     "name": "stdout",
     "output_type": "stream",
     "text": [
      "accuracy: 0.7942708134651184\n"
     ]
    }
   ],
   "source": [
    "with torch.no_grad():\n",
    "    pred = model(X)\n",
    "accuracy = (pred.round() == y).float().mean()\n",
    "print(f\"accuracy: {accuracy}\")"
   ]
  }
 ],
 "metadata": {
  "kernelspec": {
   "display_name": "Python 3 (ipykernel)",
   "language": "python",
   "name": "python3"
  },
  "language_info": {
   "codemirror_mode": {
    "name": "ipython",
    "version": 3
   },
   "file_extension": ".py",
   "mimetype": "text/x-python",
   "name": "python",
   "nbconvert_exporter": "python",
   "pygments_lexer": "ipython3",
   "version": "3.9.6"
  }
 },
 "nbformat": 4,
 "nbformat_minor": 5
}
